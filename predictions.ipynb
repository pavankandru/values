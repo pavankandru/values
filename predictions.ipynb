{
 "cells": [
  {
   "cell_type": "code",
   "execution_count": 1,
   "metadata": {},
   "outputs": [],
   "source": [
    "import pickle\n",
    "import torch"
   ]
  },
  {
   "cell_type": "code",
   "execution_count": 68,
   "metadata": {},
   "outputs": [],
   "source": [
    "a = pickle.load(open('predictions_test4lr','rb'))\n",
    "a= (torch.cat(a)>0.05)*1\n",
    "a = a.numpy()"
   ]
  },
  {
   "cell_type": "code",
   "execution_count": 69,
   "metadata": {},
   "outputs": [],
   "source": [
    "a = a[:,[idx for idx,i in enumerate(['Achievement', 'Benevolence', 'Benevolence: caring',\n",
    "       'Benevolence: dependability', 'Conformity', 'Conformity: interpersonal',\n",
    "       'Conformity: rules', 'Face', 'Hedonism', 'Humility', 'Power',\n",
    "       'Power: dominance', 'Power: resources', 'Security',\n",
    "       'Security: personal', 'Security: societal', 'Self-direction',\n",
    "       'Self-direction: action', 'Self-direction: thought', 'Stimulation',\n",
    "       'Tradition', 'Universalism', 'Universalism: concern',\n",
    "       'Universalism: nature', 'Universalism: objectivity',\n",
    "       'Universalism: tolerance']) if i not in ['Self-direction', 'Power', 'Security', 'Conformity', 'Benevolence',\n",
    "       'Universalism']]]"
   ]
  },
  {
   "cell_type": "code",
   "execution_count": 52,
   "metadata": {},
   "outputs": [
    {
     "data": {
      "text/plain": [
       "['Achievement',\n",
       " 'Benevolence: caring',\n",
       " 'Benevolence: dependability',\n",
       " 'Conformity: interpersonal',\n",
       " 'Conformity: rules',\n",
       " 'Face',\n",
       " 'Hedonism',\n",
       " 'Humility',\n",
       " 'Power: dominance',\n",
       " 'Power: resources',\n",
       " 'Security: personal',\n",
       " 'Security: societal',\n",
       " 'Self-direction: action',\n",
       " 'Self-direction: thought',\n",
       " 'Stimulation',\n",
       " 'Tradition',\n",
       " 'Universalism: concern',\n",
       " 'Universalism: nature',\n",
       " 'Universalism: objectivity',\n",
       " 'Universalism: tolerance']"
      ]
     },
     "execution_count": 52,
     "metadata": {},
     "output_type": "execute_result"
    }
   ],
   "source": [
    "[i for idx,i in enumerate(['Achievement', 'Benevolence', 'Benevolence: caring',\n",
    "       'Benevolence: dependability', 'Conformity', 'Conformity: interpersonal',\n",
    "       'Conformity: rules', 'Face', 'Hedonism', 'Humility', 'Power',\n",
    "       'Power: dominance', 'Power: resources', 'Security',\n",
    "       'Security: personal', 'Security: societal', 'Self-direction',\n",
    "       'Self-direction: action', 'Self-direction: thought', 'Stimulation',\n",
    "       'Tradition', 'Universalism', 'Universalism: concern',\n",
    "       'Universalism: nature', 'Universalism: objectivity',\n",
    "       'Universalism: tolerance']) if i not in ['Self-direction', 'Power', 'Security', 'Conformity', 'Benevolence',\n",
    "       'Universalism']]"
   ]
  },
  {
   "cell_type": "code",
   "execution_count": 70,
   "metadata": {},
   "outputs": [
    {
     "data": {
      "text/plain": [
       "array([[1, 0, 0, ..., 0, 0, 0],\n",
       "       [0, 0, 0, ..., 0, 0, 1],\n",
       "       [0, 0, 0, ..., 0, 0, 0],\n",
       "       ...,\n",
       "       [1, 0, 0, ..., 0, 1, 0],\n",
       "       [0, 0, 0, ..., 0, 0, 0],\n",
       "       [0, 0, 0, ..., 0, 0, 0]])"
      ]
     },
     "execution_count": 70,
     "metadata": {},
     "output_type": "execute_result"
    }
   ],
   "source": [
    "a"
   ]
  },
  {
   "cell_type": "code",
   "execution_count": 71,
   "metadata": {},
   "outputs": [],
   "source": [
    "import pandas as pd\n",
    "df = pd.read_csv('data/labels-validation.tsv',delimiter='\\t')\n",
    "df2 = pd.read_csv('data/arguments-test.tsv',delimiter='\\t')"
   ]
  },
  {
   "cell_type": "code",
   "execution_count": 72,
   "metadata": {},
   "outputs": [
    {
     "data": {
      "text/html": [
       "<div>\n",
       "<style scoped>\n",
       "    .dataframe tbody tr th:only-of-type {\n",
       "        vertical-align: middle;\n",
       "    }\n",
       "\n",
       "    .dataframe tbody tr th {\n",
       "        vertical-align: top;\n",
       "    }\n",
       "\n",
       "    .dataframe thead th {\n",
       "        text-align: right;\n",
       "    }\n",
       "</style>\n",
       "<table border=\"1\" class=\"dataframe\">\n",
       "  <thead>\n",
       "    <tr style=\"text-align: right;\">\n",
       "      <th></th>\n",
       "      <th>Argument ID</th>\n",
       "      <th>Conclusion</th>\n",
       "      <th>Stance</th>\n",
       "      <th>Premise</th>\n",
       "    </tr>\n",
       "  </thead>\n",
       "  <tbody>\n",
       "    <tr>\n",
       "      <th>0</th>\n",
       "      <td>A26004</td>\n",
       "      <td>We should end affirmative action</td>\n",
       "      <td>against</td>\n",
       "      <td>affirmative action helps with employment equity.</td>\n",
       "    </tr>\n",
       "    <tr>\n",
       "      <th>1</th>\n",
       "      <td>A26010</td>\n",
       "      <td>We should end affirmative action</td>\n",
       "      <td>in favor of</td>\n",
       "      <td>affirmative action can be considered discrimin...</td>\n",
       "    </tr>\n",
       "    <tr>\n",
       "      <th>2</th>\n",
       "      <td>A26016</td>\n",
       "      <td>We should ban naturopathy</td>\n",
       "      <td>in favor of</td>\n",
       "      <td>naturopathy is very dangerous for the most vul...</td>\n",
       "    </tr>\n",
       "    <tr>\n",
       "      <th>3</th>\n",
       "      <td>A26024</td>\n",
       "      <td>We should prohibit women in combat</td>\n",
       "      <td>in favor of</td>\n",
       "      <td>women shouldn't be in combat because they aren...</td>\n",
       "    </tr>\n",
       "    <tr>\n",
       "      <th>4</th>\n",
       "      <td>A26026</td>\n",
       "      <td>We should ban naturopathy</td>\n",
       "      <td>in favor of</td>\n",
       "      <td>once eradicated illnesses are returning due to...</td>\n",
       "    </tr>\n",
       "    <tr>\n",
       "      <th>...</th>\n",
       "      <td>...</td>\n",
       "      <td>...</td>\n",
       "      <td>...</td>\n",
       "      <td>...</td>\n",
       "    </tr>\n",
       "    <tr>\n",
       "      <th>1571</th>\n",
       "      <td>E07272</td>\n",
       "      <td>We should end mass migration together.</td>\n",
       "      <td>in favor of</td>\n",
       "      <td>Mass migration is a phenomenon that causes dam...</td>\n",
       "    </tr>\n",
       "    <tr>\n",
       "      <th>1572</th>\n",
       "      <td>E07273</td>\n",
       "      <td>We should end mass migration together.</td>\n",
       "      <td>in favor of</td>\n",
       "      <td>Mass migration hurts the migrants themselves i...</td>\n",
       "    </tr>\n",
       "    <tr>\n",
       "      <th>1573</th>\n",
       "      <td>E07275</td>\n",
       "      <td>We should consider Russian interests in the EU...</td>\n",
       "      <td>in favor of</td>\n",
       "      <td>It is neither in the interests of the EU nor R...</td>\n",
       "    </tr>\n",
       "    <tr>\n",
       "      <th>1574</th>\n",
       "      <td>E07280</td>\n",
       "      <td>We should adopt an extension of the applicatio...</td>\n",
       "      <td>in favor of</td>\n",
       "      <td>Foreign Policy at the EU level should be based...</td>\n",
       "    </tr>\n",
       "    <tr>\n",
       "      <th>1575</th>\n",
       "      <td>E08023</td>\n",
       "      <td>We should abolish covid digital pass</td>\n",
       "      <td>against</td>\n",
       "      <td>You owe the fact that you can drink your coffe...</td>\n",
       "    </tr>\n",
       "  </tbody>\n",
       "</table>\n",
       "<p>1576 rows × 4 columns</p>\n",
       "</div>"
      ],
      "text/plain": [
       "     Argument ID                                         Conclusion  \\\n",
       "0         A26004                   We should end affirmative action   \n",
       "1         A26010                   We should end affirmative action   \n",
       "2         A26016                          We should ban naturopathy   \n",
       "3         A26024                 We should prohibit women in combat   \n",
       "4         A26026                          We should ban naturopathy   \n",
       "...          ...                                                ...   \n",
       "1571      E07272             We should end mass migration together.   \n",
       "1572      E07273             We should end mass migration together.   \n",
       "1573      E07275  We should consider Russian interests in the EU...   \n",
       "1574      E07280  We should adopt an extension of the applicatio...   \n",
       "1575      E08023               We should abolish covid digital pass   \n",
       "\n",
       "           Stance                                            Premise  \n",
       "0         against   affirmative action helps with employment equity.  \n",
       "1     in favor of  affirmative action can be considered discrimin...  \n",
       "2     in favor of  naturopathy is very dangerous for the most vul...  \n",
       "3     in favor of  women shouldn't be in combat because they aren...  \n",
       "4     in favor of  once eradicated illnesses are returning due to...  \n",
       "...           ...                                                ...  \n",
       "1571  in favor of  Mass migration is a phenomenon that causes dam...  \n",
       "1572  in favor of  Mass migration hurts the migrants themselves i...  \n",
       "1573  in favor of  It is neither in the interests of the EU nor R...  \n",
       "1574  in favor of  Foreign Policy at the EU level should be based...  \n",
       "1575      against  You owe the fact that you can drink your coffe...  \n",
       "\n",
       "[1576 rows x 4 columns]"
      ]
     },
     "execution_count": 72,
     "metadata": {},
     "output_type": "execute_result"
    }
   ],
   "source": [
    "df2"
   ]
  },
  {
   "cell_type": "code",
   "execution_count": 73,
   "metadata": {},
   "outputs": [
    {
     "data": {
      "text/plain": [
       "array([[1, 0, 0, ..., 0, 0, 0],\n",
       "       [0, 0, 0, ..., 0, 0, 1],\n",
       "       [0, 0, 0, ..., 0, 0, 0],\n",
       "       ...,\n",
       "       [1, 0, 0, ..., 0, 1, 0],\n",
       "       [0, 0, 0, ..., 0, 0, 0],\n",
       "       [0, 0, 0, ..., 0, 0, 0]])"
      ]
     },
     "execution_count": 73,
     "metadata": {},
     "output_type": "execute_result"
    }
   ],
   "source": [
    "a"
   ]
  },
  {
   "cell_type": "code",
   "execution_count": 77,
   "metadata": {},
   "outputs": [
    {
     "data": {
      "text/plain": [
       "Index(['Argument ID', 'Self-direction: thought', 'Self-direction: action',\n",
       "       'Stimulation', 'Hedonism', 'Achievement', 'Power: dominance',\n",
       "       'Power: resources', 'Face', 'Security: personal', 'Security: societal',\n",
       "       'Tradition', 'Conformity: rules', 'Conformity: interpersonal',\n",
       "       'Humility', 'Benevolence: caring', 'Benevolence: dependability',\n",
       "       'Universalism: concern', 'Universalism: nature',\n",
       "       'Universalism: tolerance', 'Universalism: objectivity'],\n",
       "      dtype='object')"
      ]
     },
     "execution_count": 77,
     "metadata": {},
     "output_type": "execute_result"
    }
   ],
   "source": [
    "df.columns"
   ]
  },
  {
   "cell_type": "code",
   "execution_count": 74,
   "metadata": {},
   "outputs": [],
   "source": [
    "d= pd.DataFrame(a,columns=df.columns.difference(['Argument ID']))\n",
    "d['Argument ID'] = df2['Argument ID']\n",
    "ans =d[df.columns]"
   ]
  },
  {
   "cell_type": "code",
   "execution_count": 75,
   "metadata": {},
   "outputs": [],
   "source": [
    "ans.to_csv('res_testall.tsv',index=False,sep='\\t')"
   ]
  },
  {
   "cell_type": "code",
   "execution_count": 12,
   "metadata": {},
   "outputs": [],
   "source": [
    "d = pd.read_csv('data/labels-training.tsv',delimiter='\\t')"
   ]
  },
  {
   "cell_type": "code",
   "execution_count": 15,
   "metadata": {},
   "outputs": [],
   "source": [
    "a = d[df.columns.difference(['Argument ID'])].sum()\n",
    "b=a.sum()/a\n",
    "c = (b/b.sum()).values"
   ]
  },
  {
   "cell_type": "code",
   "execution_count": 16,
   "metadata": {},
   "outputs": [
    {
     "data": {
      "text/plain": [
       "Achievement                   1512\n",
       "Benevolence: caring           1332\n",
       "Benevolence: dependability     806\n",
       "Conformity: interpersonal      207\n",
       "Conformity: rules             1177\n",
       "Face                           382\n",
       "Hedonism                       172\n",
       "Humility                       395\n",
       "Power: dominance               610\n",
       "Power: resources               625\n",
       "Security: personal            2000\n",
       "Security: societal            1728\n",
       "Self-direction: action        1395\n",
       "Self-direction: thought        988\n",
       "Stimulation                    247\n",
       "Tradition                      568\n",
       "Universalism: concern         2081\n",
       "Universalism: nature           427\n",
       "Universalism: objectivity     1054\n",
       "Universalism: tolerance        664\n",
       "dtype: int64"
      ]
     },
     "execution_count": 16,
     "metadata": {},
     "output_type": "execute_result"
    }
   ],
   "source": [
    "a"
   ]
  },
  {
   "cell_type": "code",
   "execution_count": 18,
   "metadata": {},
   "outputs": [
    {
     "data": {
      "text/plain": [
       "tensor([0.0278, 0.0197, 0.1111, 0.1596, 0.0182, 0.0450, 0.0439, 0.0719, 0.0137,\n",
       "        0.0159, 0.0483, 0.0233, 0.1326, 0.0695, 0.0206, 0.0341, 0.0132, 0.0643,\n",
       "        0.0413, 0.0260])"
      ]
     },
     "execution_count": 18,
     "metadata": {},
     "output_type": "execute_result"
    }
   ],
   "source": [
    "torch.Tensor(c)"
   ]
  },
  {
   "cell_type": "code",
   "execution_count": 29,
   "metadata": {},
   "outputs": [
    {
     "data": {
      "text/plain": [
       "Self-direction: thought        18.593117\n",
       "Self-direction: action         13.168459\n",
       "Stimulation                    74.372470\n",
       "Hedonism                      106.802326\n",
       "Achievement                    12.149471\n",
       "Power: dominance               30.114754\n",
       "Power: resources               29.392000\n",
       "Face                           48.089005\n",
       "Security: personal              9.185000\n",
       "Security: societal             10.630787\n",
       "Tradition                      32.341549\n",
       "Conformity: rules              15.607477\n",
       "Conformity: interpersonal      88.743961\n",
       "Humility                       46.506329\n",
       "Benevolence: caring            13.791291\n",
       "Benevolence: dependability     22.791563\n",
       "Universalism: concern           8.827487\n",
       "Universalism: nature           43.021077\n",
       "Universalism: tolerance        27.665663\n",
       "Universalism: objectivity      17.428843\n",
       "dtype: float64"
      ]
     },
     "execution_count": 29,
     "metadata": {},
     "output_type": "execute_result"
    }
   ],
   "source": [
    "b"
   ]
  },
  {
   "cell_type": "code",
   "execution_count": 18,
   "metadata": {},
   "outputs": [
    {
     "data": {
      "text/plain": [
       "Index(['Achievement', 'Benevolence', 'Benevolence: caring',\n",
       "       'Benevolence: dependability', 'Conformity', 'Conformity: interpersonal',\n",
       "       'Conformity: rules', 'Face', 'Hedonism', 'Humility', 'Power',\n",
       "       'Power: dominance', 'Power: resources', 'Security',\n",
       "       'Security: personal', 'Security: societal', 'Self-direction',\n",
       "       'Self-direction: action', 'Self-direction: thought', 'Stimulation',\n",
       "       'Tradition', 'Universalism', 'Universalism: concern',\n",
       "       'Universalism: nature', 'Universalism: objectivity',\n",
       "       'Universalism: tolerance'],\n",
       "      dtype='object')"
      ]
     },
     "execution_count": 18,
     "metadata": {},
     "output_type": "execute_result"
    }
   ],
   "source": [
    "import pandas as pd\n",
    "df = pd.read_csv('data/labels-validation.tsv',delimiter='\\t')\n",
    "# df2 = pd.read_csv('data/arguments-validation.tsv',delimiter='\\t')\n",
    "def extra_labels(df):\n",
    "    df['Self-direction'] = df[['Self-direction: thought', 'Self-direction: action']].sum(axis=1)\n",
    "    df['Power'] = df[['Power: dominance','Power: resources']].sum(axis=1)\n",
    "    df['Security']= df[['Security: personal', 'Security: societal']].sum(axis=1)\n",
    "    df['Conformity']= df[['Conformity: rules', 'Conformity: interpersonal']].sum(axis=1)\n",
    "    df['Benevolence']=df[['Benevolence: caring', 'Benevolence: dependability']].sum(axis=1)\n",
    "    df['Universalism'] =df[['Universalism: concern', 'Universalism: nature','Universalism: tolerance', 'Universalism: objectivity']].sum(axis=1)\n",
    "    for i in ['Self-direction','Power','Security','Conformity','Benevolence','Universalism']:\n",
    "        df[i]=(df[i]>0)*1\n",
    "    # l3 = pd.read_csv('data/labels-level3.tsv',delimiter='\\t')\n",
    "    # l4a = pd.read_csv('data/labels-level4a.tsv',delimiter='\\t')\n",
    "    # l4b = pd.read_csv('data/labels-level4b.tsv',delimiter='\\t')\n",
    "    # print(df['Argument ID'])\n",
    "    # df = pd.merge(df,l3,on='Argument ID')\n",
    "    # df = pd.merge(df,l4a,on='Argument ID')\n",
    "    # df = pd.merge(df,l4b,on='Argument ID')\n",
    "    return df\n",
    "\n",
    "df = extra_labels(df)\n",
    "df[df.columns.difference(['Argument ID'])].columns"
   ]
  },
  {
   "cell_type": "code",
   "execution_count": 36,
   "metadata": {},
   "outputs": [],
   "source": [
    "df = df[df.columns.difference(['Argument ID'])]\n",
    "# a= df[['Self-direction','Power','Security','Conformity','Benevolence','Universalism']]\n",
    "# b = df[df.columns.difference(['Self-direction','Power','Security','Conformity','Benevolence','Universalism'])]\n",
    "b_cols =[i for i in ['Achievement', 'Benevolence', 'Benevolence: caring',\n",
    "       'Benevolence: dependability', 'Conformity', 'Conformity: interpersonal',\n",
    "       'Conformity: rules', 'Face', 'Hedonism', 'Humility', 'Power',\n",
    "       'Power: dominance', 'Power: resources', 'Security',\n",
    "       'Security: personal', 'Security: societal', 'Self-direction',\n",
    "       'Self-direction: action', 'Self-direction: thought', 'Stimulation',\n",
    "       'Tradition', 'Universalism', 'Universalism: concern',\n",
    "       'Universalism: nature', 'Universalism: objectivity',\n",
    "       'Universalism: tolerance'] if i not in ['Self-direction', 'Power', 'Security', 'Conformity', 'Benevolence',\n",
    "       'Universalism']]\n",
    "a_cols =['Self-direction', 'Power', 'Security', 'Conformity', 'Benevolence',\n",
    "       'Universalism']\n",
    "b = df[b_cols]\n",
    "a = df[a_cols]\n",
    "# d = df[['Personal focus', 'Social focus']]\n",
    "# e = df[['Growth, Anxiety-free', 'Self-protection, Anxiety avoidance']]"
   ]
  },
  {
   "cell_type": "code",
   "execution_count": 38,
   "metadata": {},
   "outputs": [
    {
     "data": {
      "text/plain": [
       "Achievement                   575\n",
       "Benevolence: caring           633\n",
       "Benevolence: dependability    268\n",
       "Conformity: interpersonal      60\n",
       "Conformity: rules             455\n",
       "Face                          130\n",
       "Hedonism                      103\n",
       "Humility                      127\n",
       "Power: dominance              164\n",
       "Power: resources              132\n",
       "Security: personal            759\n",
       "Security: societal            488\n",
       "Self-direction: action        496\n",
       "Self-direction: thought       251\n",
       "Stimulation                   138\n",
       "Tradition                     172\n",
       "Universalism: concern         687\n",
       "Universalism: nature          127\n",
       "Universalism: objectivity     371\n",
       "Universalism: tolerance       223\n",
       "dtype: int64"
      ]
     },
     "execution_count": 38,
     "metadata": {},
     "output_type": "execute_result"
    }
   ],
   "source": [
    "b.sum()"
   ]
  },
  {
   "cell_type": "code",
   "execution_count": 20,
   "metadata": {},
   "outputs": [],
   "source": [
    "ans_a = sum(a.sum())/a.sum()\n",
    "ans_a=ans_a/ans_a.sum()\n",
    "\n",
    "ans_b = sum(b.sum())/b.sum()\n",
    "ans_b = ans_b/ans_b.sum()"
   ]
  },
  {
   "cell_type": "code",
   "execution_count": 34,
   "metadata": {},
   "outputs": [
    {
     "data": {
      "text/plain": [
       "Achievement                   0.134037\n",
       "Benevolence                   0.243516\n",
       "Benevolence: caring           0.121756\n",
       "Benevolence: dependability    0.287580\n",
       "Conformity                    0.404186\n",
       "Conformity: interpersonal     1.284526\n",
       "Conformity: rules             0.169388\n",
       "Face                          0.592858\n",
       "Hedonism                      0.748267\n",
       "Humility                      0.606862\n",
       "Power                         0.675966\n",
       "Power: dominance              0.469948\n",
       "Power: resources              0.583875\n",
       "Security                      0.176763\n",
       "Security: personal            0.101544\n",
       "Security: societal            0.157933\n",
       "Self-direction                0.321361\n",
       "Self-direction: action        0.155386\n",
       "Self-direction: thought       0.307058\n",
       "Stimulation                   0.558489\n",
       "Tradition                     0.448090\n",
       "Universalism                  0.178209\n",
       "Universalism: concern         0.112186\n",
       "Universalism: nature          0.606862\n",
       "Universalism: objectivity     0.207740\n",
       "Universalism: tolerance       0.345612\n",
       "dtype: float64"
      ]
     },
     "execution_count": 34,
     "metadata": {},
     "output_type": "execute_result"
    }
   ],
   "source": [
    "finn = pd.concat([8*ans_b,2*ans_a]).sort_index()\n",
    "finn"
   ]
  },
  {
   "cell_type": "code",
   "execution_count": null,
   "metadata": {},
   "outputs": [],
   "source": []
  },
  {
   "cell_type": "code",
   "execution_count": 38,
   "metadata": {},
   "outputs": [],
   "source": [
    "ans_=[]\n",
    "for i,j in zip([b,c],pd.Series([20,4])/3.4):\n",
    "    x = sum(i.sum())/i.sum()\n",
    "    x = x/x.sum()\n",
    "    ans_.append(j*x)\n",
    "fin_weights = pd.concat(ans_) "
   ]
  },
  {
   "cell_type": "code",
   "execution_count": 40,
   "metadata": {},
   "outputs": [
    {
     "data": {
      "text/plain": [
       "array([0.18032029, 0.10405367, 0.29385528, 0.46671133, 0.1027067 ,\n",
       "       0.41216066, 0.44699113, 0.42886987, 0.06854508, 0.11710838,\n",
       "       0.29660159, 0.10721747, 0.73805513, 0.36064057, 0.07759504,\n",
       "       0.19712031, 0.08075412, 0.99176158, 0.22349557, 0.18778917,\n",
       "       0.38908921, 0.37332653, 0.21069813, 0.20335673])"
      ]
     },
     "execution_count": 40,
     "metadata": {},
     "output_type": "execute_result"
    }
   ],
   "source": [
    "fin_weights.values"
   ]
  },
  {
   "cell_type": "code",
   "execution_count": 40,
   "metadata": {},
   "outputs": [],
   "source": [
    "final = pd.concat([8*ans_b,2*ans_a])"
   ]
  },
  {
   "cell_type": "code",
   "execution_count": 41,
   "metadata": {},
   "outputs": [
    {
     "data": {
      "text/plain": [
       "array([0.30705791, 0.15538616, 0.55848939, 0.74826734, 0.13403745,\n",
       "       0.46994839, 0.58387527, 0.59285797, 0.10154353, 0.15793347,\n",
       "       0.44809032, 0.16938799, 1.2845256 , 0.60686249, 0.12175598,\n",
       "       0.28758036, 0.11218564, 0.60686249, 0.34561227, 0.20773999,\n",
       "       0.32136078, 0.67596578, 0.17676292, 0.40418573, 0.24351562,\n",
       "       0.17820916])"
      ]
     },
     "execution_count": 41,
     "metadata": {},
     "output_type": "execute_result"
    }
   ],
   "source": [
    "final.values"
   ]
  },
  {
   "cell_type": "code",
   "execution_count": 39,
   "metadata": {},
   "outputs": [
    {
     "name": "stderr",
     "output_type": "stream",
     "text": [
      "Some weights of the model checkpoint at microsoft/deberta-base were not used when initializing DebertaModel: ['lm_predictions.lm_head.bias', 'lm_predictions.lm_head.dense.bias', 'lm_predictions.lm_head.LayerNorm.weight', 'lm_predictions.lm_head.LayerNorm.bias', 'lm_predictions.lm_head.dense.weight']\n",
      "- This IS expected if you are initializing DebertaModel from the checkpoint of a model trained on another task or with another architecture (e.g. initializing a BertForSequenceClassification model from a BertForPreTraining model).\n",
      "- This IS NOT expected if you are initializing DebertaModel from the checkpoint of a model that you expect to be exactly identical (initializing a BertForSequenceClassification model from a BertForSequenceClassification model).\n"
     ]
    }
   ],
   "source": [
    "from transformers import AutoModel,AutoTokenizer\n",
    "import pytorch_lightning as pl\n",
    "\n",
    "\n",
    "from pytorch_lightning import Trainer\n",
    "from sklearn.metrics import classification_report\n",
    "\n",
    "\n",
    "import pickle\n",
    "\n",
    "\n",
    "\n",
    "import torch.optim as optim\n",
    "\n",
    "model = AutoModel.from_pretrained(\"microsoft/deberta-base\")\n",
    "tokenizer = AutoTokenizer.from_pretrained(\"microsoft/deberta-base\")"
   ]
  },
  {
   "cell_type": "code",
   "execution_count": 45,
   "metadata": {},
   "outputs": [],
   "source": [
    "from torch.utils.data import Dataset,DataLoader\n",
    "import numpy as np\n",
    "def extra_labels(df):\n",
    "    df['Self-direction'] = df[['Self-direction: thought', 'Self-direction: action']].sum(axis=1)\n",
    "    df['Power'] = df[['Power: dominance','Power: resources']].sum(axis=1)\n",
    "    df['Security']= df[['Security: personal', 'Security: societal']].sum(axis=1)\n",
    "    df['Conformity']= df[['Conformity: rules', 'Conformity: interpersonal']].sum(axis=1)\n",
    "    df['Benevolence']=df[['Benevolence: caring', 'Benevolence: dependability']].sum(axis=1)\n",
    "    df['Universalism'] =df[['Universalism: concern', 'Universalism: nature','Universalism: tolerance', 'Universalism: objectivity']].sum(axis=1)\n",
    "    for i in ['Self-direction','Power','Security','Conformity','Benevolence','Universalism']:\n",
    "        df[i]=(df[i]>0)*1\n",
    "\n",
    "\n",
    "    return df\n",
    "\n",
    "class Data(Dataset):\n",
    "    def __init__(self,tokenizer,split=\"training\") -> None:\n",
    "        super().__init__()\n",
    "        df = pd.read_csv('data/arguments-training.tsv',delimiter='\\t')\n",
    "        df2 = pd.read_csv('data/arguments-validation.tsv',delimiter='\\t')\n",
    "        df3 = pd.read_csv('data/arguments-validation-zhihu.tsv',delimiter='\\t')\n",
    "        df = pd.concat([df,df2,df3])\n",
    "        if split!='test':\n",
    "            ldf = pd.read_csv('data/labels-training.tsv',delimiter='\\t')\n",
    "            ldf2 = pd.read_csv('data/labels-validation.tsv',delimiter='\\t')\n",
    "            ldf3 = pd.read_csv('data/labels-validation-zhihu.tsv',delimiter='\\t')\n",
    "            df = df.merge(ldf,on=[\"Argument ID\"])\n",
    "            df = extra_labels(df)\n",
    "            self.labels = df[df.columns.difference(['Argument ID','Conclusion','Stance','Premise'])].values\n",
    "        \n",
    "        self.argument_ids  = df['Argument ID'].values\n",
    "        self.conclusion =df['Conclusion'].values\n",
    "        self.stance  = df['Stance'].values\n",
    "        self.premise = df['Premise'].values\n",
    "        self.tokenizer =tokenizer\n",
    "        self.split=split\n",
    "\n",
    "    def __len__(self):\n",
    "        return len(self.argument_ids)\n",
    "    \n",
    "    def __getitem__(self,idx):\n",
    "        return_dict =  {\"premise\":self.tokenizer(self.premise[idx],add_special_tokens=False)['input_ids'],\n",
    "                \"stance\":self.tokenizer(self.stance[idx],add_special_tokens=False)['input_ids'],\n",
    "                \"conclusion\":self.tokenizer(self.conclusion[idx],add_special_tokens=False)['input_ids'],\n",
    "                }\n",
    "        if self.split!='test':\n",
    "            return_dict[\"labels\"]=self.labels[idx]\n",
    "        return return_dict\n",
    "\n",
    "\n",
    "def collate_fn(batch):\n",
    "    unpadded_batch=[]\n",
    "    for row in batch:\n",
    "        i,j,k = row['premise'],row['stance'],row['conclusion']\n",
    "        unpadded_batch.append([1]+i+[2]+j+[2]+k+[2])\n",
    "    max_len = max([len(i) for i in unpadded_batch])\n",
    "    x = np.array([i+[0]*(max_len-len(i)) for i in unpadded_batch])\n",
    "    \n",
    "    return torch.LongTensor(x),(torch.Tensor(np.array([row['labels'] for row in batch])) if 'labels' in batch[0] else None)\n",
    "\n",
    "\n",
    "    \n"
   ]
  },
  {
   "cell_type": "code",
   "execution_count": 46,
   "metadata": {},
   "outputs": [],
   "source": [
    "\n",
    "train_loader = DataLoader(Data(tokenizer,\"training\"),batch_size=16,collate_fn=collate_fn,shuffle=True)\n"
   ]
  },
  {
   "cell_type": "code",
   "execution_count": 48,
   "metadata": {},
   "outputs": [
    {
     "name": "stdout",
     "output_type": "stream",
     "text": [
      "torch.Size([16, 82]) torch.Size([16, 26])\n"
     ]
    }
   ],
   "source": [
    "for i in train_loader:\n",
    "    print(i[0].shape,i[1].shape)\n",
    "    break"
   ]
  },
  {
   "cell_type": "code",
   "execution_count": 49,
   "metadata": {},
   "outputs": [
    {
     "data": {
      "text/plain": [
       "338"
      ]
     },
     "execution_count": 49,
     "metadata": {},
     "output_type": "execute_result"
    }
   ],
   "source": [
    "len(train_loader)"
   ]
  },
  {
   "cell_type": "code",
   "execution_count": null,
   "metadata": {},
   "outputs": [],
   "source": []
  }
 ],
 "metadata": {
  "kernelspec": {
   "display_name": "base",
   "language": "python",
   "name": "python3"
  },
  "language_info": {
   "codemirror_mode": {
    "name": "ipython",
    "version": 3
   },
   "file_extension": ".py",
   "mimetype": "text/x-python",
   "name": "python",
   "nbconvert_exporter": "python",
   "pygments_lexer": "ipython3",
   "version": "3.9.12"
  },
  "orig_nbformat": 4,
  "vscode": {
   "interpreter": {
    "hash": "8520a93c392975b9ccfdb99ad87895712a7403ecc90a6b822aa922151bf6b3f9"
   }
  }
 },
 "nbformat": 4,
 "nbformat_minor": 2
}
