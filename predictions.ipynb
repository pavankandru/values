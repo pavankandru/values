{
 "cells": [
  {
   "cell_type": "code",
   "execution_count": 1,
   "metadata": {},
   "outputs": [],
   "source": [
    "import pickle\n",
    "import torch"
   ]
  },
  {
   "cell_type": "code",
   "execution_count": 24,
   "metadata": {},
   "outputs": [],
   "source": [
    "a = pickle.load(open('predictions_val','rb'))\n",
    "a= (torch.cat(a)>0.05)*1\n",
    "a = a.numpy()"
   ]
  },
  {
   "cell_type": "code",
   "execution_count": 25,
   "metadata": {},
   "outputs": [
    {
     "data": {
      "text/plain": [
       "(1896, 20)"
      ]
     },
     "execution_count": 25,
     "metadata": {},
     "output_type": "execute_result"
    }
   ],
   "source": [
    "a.shape"
   ]
  },
  {
   "cell_type": "code",
   "execution_count": 26,
   "metadata": {},
   "outputs": [],
   "source": [
    "import pandas as pd\n",
    "df = pd.read_csv('data/labels-validation.tsv',delimiter='\\t')\n",
    "# df2 = pd.read_csv('data/arguments-validation.tsv',delimiter='\\t')"
   ]
  },
  {
   "cell_type": "code",
   "execution_count": 25,
   "metadata": {},
   "outputs": [
    {
     "data": {
      "text/plain": [
       "Index(['Achievement', 'Benevolence: caring', 'Benevolence: dependability',\n",
       "       'Conformity: interpersonal', 'Conformity: rules', 'Face', 'Hedonism',\n",
       "       'Humility', 'Power: dominance', 'Power: resources',\n",
       "       'Security: personal', 'Security: societal', 'Self-direction: action',\n",
       "       'Self-direction: thought', 'Stimulation', 'Tradition',\n",
       "       'Universalism: concern', 'Universalism: nature',\n",
       "       'Universalism: objectivity', 'Universalism: tolerance'],\n",
       "      dtype='object')"
      ]
     },
     "execution_count": 25,
     "metadata": {},
     "output_type": "execute_result"
    }
   ],
   "source": []
  },
  {
   "cell_type": "code",
   "execution_count": 27,
   "metadata": {},
   "outputs": [],
   "source": [
    "d= pd.DataFrame(a,columns=df.columns.difference(['Argument ID']))\n",
    "d['Argument ID'] = df['Argument ID']\n",
    "ans =d[df.columns]"
   ]
  },
  {
   "cell_type": "code",
   "execution_count": 28,
   "metadata": {},
   "outputs": [],
   "source": [
    "ans.to_csv('res_val.tsv',index=False,sep='\\t')"
   ]
  },
  {
   "cell_type": "code",
   "execution_count": 10,
   "metadata": {},
   "outputs": [],
   "source": [
    "d = pd.read_csv('data/labels-training.tsv',delimiter='\\t')"
   ]
  },
  {
   "cell_type": "code",
   "execution_count": 17,
   "metadata": {},
   "outputs": [],
   "source": [
    "a = d.drop(['Argument ID'],axis=1).sum()\n",
    "b=a.sum()/a\n",
    "c = (b/b.sum()).values"
   ]
  },
  {
   "cell_type": "code",
   "execution_count": 18,
   "metadata": {},
   "outputs": [
    {
     "data": {
      "text/plain": [
       "tensor([0.0278, 0.0197, 0.1111, 0.1596, 0.0182, 0.0450, 0.0439, 0.0719, 0.0137,\n",
       "        0.0159, 0.0483, 0.0233, 0.1326, 0.0695, 0.0206, 0.0341, 0.0132, 0.0643,\n",
       "        0.0413, 0.0260])"
      ]
     },
     "execution_count": 18,
     "metadata": {},
     "output_type": "execute_result"
    }
   ],
   "source": [
    "torch.Tensor(c)"
   ]
  },
  {
   "cell_type": "code",
   "execution_count": 29,
   "metadata": {},
   "outputs": [
    {
     "data": {
      "text/plain": [
       "Self-direction: thought        18.593117\n",
       "Self-direction: action         13.168459\n",
       "Stimulation                    74.372470\n",
       "Hedonism                      106.802326\n",
       "Achievement                    12.149471\n",
       "Power: dominance               30.114754\n",
       "Power: resources               29.392000\n",
       "Face                           48.089005\n",
       "Security: personal              9.185000\n",
       "Security: societal             10.630787\n",
       "Tradition                      32.341549\n",
       "Conformity: rules              15.607477\n",
       "Conformity: interpersonal      88.743961\n",
       "Humility                       46.506329\n",
       "Benevolence: caring            13.791291\n",
       "Benevolence: dependability     22.791563\n",
       "Universalism: concern           8.827487\n",
       "Universalism: nature           43.021077\n",
       "Universalism: tolerance        27.665663\n",
       "Universalism: objectivity      17.428843\n",
       "dtype: float64"
      ]
     },
     "execution_count": 29,
     "metadata": {},
     "output_type": "execute_result"
    }
   ],
   "source": [
    "b"
   ]
  },
  {
   "cell_type": "code",
   "execution_count": null,
   "metadata": {},
   "outputs": [],
   "source": []
  }
 ],
 "metadata": {
  "kernelspec": {
   "display_name": "base",
   "language": "python",
   "name": "python3"
  },
  "language_info": {
   "codemirror_mode": {
    "name": "ipython",
    "version": 3
   },
   "file_extension": ".py",
   "mimetype": "text/x-python",
   "name": "python",
   "nbconvert_exporter": "python",
   "pygments_lexer": "ipython3",
   "version": "3.9.12"
  },
  "orig_nbformat": 4,
  "vscode": {
   "interpreter": {
    "hash": "8520a93c392975b9ccfdb99ad87895712a7403ecc90a6b822aa922151bf6b3f9"
   }
  }
 },
 "nbformat": 4,
 "nbformat_minor": 2
}
